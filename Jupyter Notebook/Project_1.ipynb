{
 "cells": [
  {
   "cell_type": "code",
   "execution_count": 2,
   "id": "c1ae2c60-1285-4fa4-b7f7-9e50ea2de9a0",
   "metadata": {},
   "outputs": [],
   "source": [
    "import pandas as pd\n",
    "import numpy as np\n",
    "import os, sys\n",
    "import comtypes.client\n",
    "\n",
    "import json\n",
    "import tkinter as tk\n",
    "from tkinter import filedialog"
   ]
  },
  {
   "cell_type": "code",
   "execution_count": 53,
   "id": "c80dd722-9ce3-4487-b0f7-9dfb32010e98",
   "metadata": {},
   "outputs": [
    {
     "name": "stdout",
     "output_type": "stream",
     "text": [
      "Succesfully created helper object\n",
      "Succesfully created SapModel\n"
     ]
    }
   ],
   "source": [
    "# Initialization of ETABSObject\n",
    "ETABS_path_exe = 'C:/Program Files/Computers and Structures/ETABS 21/ETABS.exe'\n",
    "if not os.path.isfile(ETABS_path_exe):\n",
    "    root = tk.Tk()\n",
    "    root.withdraw()\n",
    "    ETABS_path = filedialog.askopenfilename(parent=root)\n",
    "    root.destroy()\n",
    "# create API helper object\n",
    "helper = comtypes.client.CreateObject(\"ETABSv1.Helper\")\n",
    "helper = helper.QueryInterface(comtypes.gen.ETABSv1.cHelper)\n",
    "print(\"Succesfully created helper object\")\n",
    "\n",
    "try:\n",
    "    #get the active ETABS object\n",
    "    ETABSObject = helper.GetObject(\"CSI.ETABS.API.ETABSObject\") \n",
    "    SapModel = ETABSObject.SapModel\n",
    "    print(\"Succesfully created SapModel\")\n",
    "except (OSError, comtypes.COMError):  \n",
    "    print(\"No running instance of the program found or failed to attach.\")\n",
    "    sys.exit(-1)\n"
   ]
  },
  {
   "cell_type": "code",
   "execution_count": 81,
   "id": "326d9279-af5c-4f12-9a0b-4aa17bf6c43c",
   "metadata": {},
   "outputs": [],
   "source": [
    "filepath = \"selection.csv\"\n",
    "try:\n",
    "    # open(newfile, \"w\")\n",
    "    df.to_csv(filepath)\n",
    "except: []\n",
    "os.startfile(filepath)"
   ]
  },
  {
   "cell_type": "code",
   "execution_count": 88,
   "id": "e93e0c00-7d7b-46d2-a3b9-2423ec327c77",
   "metadata": {},
   "outputs": [],
   "source": [
    "data = pd.read_csv(filepath)\n",
    "uniquenamelist = data.to_numpy()"
   ]
  },
  {
   "cell_type": "code",
   "execution_count": 89,
   "id": "165af2bf-0724-45d2-bab0-19e36d03e5e2",
   "metadata": {},
   "outputs": [],
   "source": [
    "for i in uniquenamelist:\n",
    "    ret = SapModel.FrameObj.SetSelected(str(i.item()),True)"
   ]
  },
  {
   "cell_type": "code",
   "execution_count": 31,
   "id": "a00052e5-4687-417a-bf4a-a06a3982d4d0",
   "metadata": {},
   "outputs": [
    {
     "data": {
      "text/plain": [
       "0"
      ]
     },
     "execution_count": 31,
     "metadata": {},
     "output_type": "execute_result"
    }
   ],
   "source": [
    "SapModel.SetModelIsLocked(False)"
   ]
  },
  {
   "cell_type": "code",
   "execution_count": 41,
   "id": "9e70201f-a700-4eb0-ab23-fcdcccbc0b00",
   "metadata": {},
   "outputs": [
    {
     "data": {
      "text/plain": [
       "0"
      ]
     },
     "execution_count": 41,
     "metadata": {},
     "output_type": "execute_result"
    }
   ],
   "source": [
    "SapModel.Analyze.RunAnalysis()\n",
    "SapModel.DesignConcrete.StartDesign()"
   ]
  }
 ],
 "metadata": {
  "kernelspec": {
   "display_name": "Python 3 (ipykernel)",
   "language": "python",
   "name": "python3"
  },
  "language_info": {
   "codemirror_mode": {
    "name": "ipython",
    "version": 3
   },
   "file_extension": ".py",
   "mimetype": "text/x-python",
   "name": "python",
   "nbconvert_exporter": "python",
   "pygments_lexer": "ipython3",
   "version": "3.11.7"
  }
 },
 "nbformat": 4,
 "nbformat_minor": 5
}
